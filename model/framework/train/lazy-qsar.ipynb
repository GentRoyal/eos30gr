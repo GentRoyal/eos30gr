{
 "cells": [
  {
   "cell_type": "code",
   "execution_count": 1,
   "metadata": {},
   "outputs": [
    {
     "name": "stderr",
     "output_type": "stream",
     "text": [
      "IProgress not found. Please update jupyter and ipywidgets. See https://ipywidgets.readthedocs.io/en/stable/user_install.html\n"
     ]
    }
   ],
   "source": [
    "import pandas as pd\n",
    "import numpy as np\n",
    "import joblib\n",
    "import shutil\n",
    "import lazyqsar as lq\n",
    "from rdkit import Chem\n",
    "from sklearn.metrics import roc_curve, auc"
   ]
  },
  {
   "cell_type": "code",
   "execution_count": 2,
   "metadata": {},
   "outputs": [],
   "source": [
    "def process_file(file_name):\n",
    "    column = \"activity80\"\n",
    "    df = pd.read_csv(file_name)\n",
    "    cols = [c for c in list(df.columns) if c.startswith(\"mol2vec-\")]\n",
    "    X = np.array(df[cols])\n",
    "    y = np.array(df[column]).reshape(-1, 1) \n",
    "    print(\"DataFrame shape:\", df.shape)  \n",
    "    print(\"X shape:\", X.shape)  \n",
    "    return X, y\n"
   ]
  },
  {
   "cell_type": "code",
   "execution_count": 3,
   "metadata": {},
   "outputs": [
    {
     "name": "stdout",
     "output_type": "stream",
     "text": [
      "DataFrame shape: (10384, 110)\n",
      "X shape: (10384, 100)\n",
      "DataFrame shape: (1299, 110)\n",
      "X shape: (1299, 100)\n",
      "DataFrame shape: (1295, 110)\n",
      "X shape: (1295, 100)\n"
     ]
    }
   ],
   "source": [
    "Xtr, ytr = process_file(\"output_file/trainingset_mol2vec.csv\")\n",
    "Xvl, yvl = process_file(\"output_file/validationset_mol2vec.csv\")\n",
    "Xte, yte = process_file(\"output_file/testset_mol2vec.csv\")"
   ]
  },
  {
   "cell_type": "code",
   "execution_count": 4,
   "metadata": {},
   "outputs": [],
   "source": [
    "X_train = np.vstack([Xtr, Xvl])\n",
    "y_train = np.vstack([ytr, yvl])\n",
    "X_test = Xte\n",
    "y_test = yte"
   ]
  },
  {
   "cell_type": "code",
   "execution_count": 5,
   "metadata": {},
   "outputs": [
    {
     "ename": "TypeError",
     "evalue": "No registered converter was able to produce a C++ rvalue of type std::__1::basic_string<wchar_t, std::__1::char_traits<wchar_t>, std::__1::allocator<wchar_t>> from this Python object of type numpy.ndarray",
     "output_type": "error",
     "traceback": [
      "\u001b[0;31m---------------------------------------------------------------------------\u001b[0m",
      "\u001b[0;31mTypeError\u001b[0m                                 Traceback (most recent call last)",
      "Cell \u001b[0;32mIn[5], line 2\u001b[0m\n\u001b[1;32m      1\u001b[0m model \u001b[39m=\u001b[39m lq\u001b[39m.\u001b[39mMorganBinaryClassifier(estimator_list\u001b[39m=\u001b[39m[\u001b[39m\"\u001b[39m\u001b[39mrf\u001b[39m\u001b[39m\"\u001b[39m])\n\u001b[0;32m----> 2\u001b[0m model\u001b[39m.\u001b[39;49mfit(X_train, y_train)\n",
      "File \u001b[0;32m~/Desktop/Ersilia/lazy-qsar/lazyqsar/binary/morgan.py:58\u001b[0m, in \u001b[0;36mMorganBinaryClassifier.fit\u001b[0;34m(self, smiles, y)\u001b[0m\n\u001b[1;32m     56\u001b[0m \u001b[39mdef\u001b[39;00m \u001b[39mfit\u001b[39m(\u001b[39mself\u001b[39m, smiles, y):\n\u001b[1;32m     57\u001b[0m     \u001b[39mif\u001b[39;00m \u001b[39mself\u001b[39m\u001b[39m.\u001b[39m_automl:\n\u001b[0;32m---> 58\u001b[0m         \u001b[39mself\u001b[39;49m\u001b[39m.\u001b[39;49mfit_automl(smiles, y)\n\u001b[1;32m     59\u001b[0m     \u001b[39melse\u001b[39;00m:\n\u001b[1;32m     60\u001b[0m         \u001b[39mself\u001b[39m\u001b[39m.\u001b[39mfit_default(smiles, y)\n",
      "File \u001b[0;32m~/Desktop/Ersilia/lazy-qsar/lazyqsar/binary/morgan.py:27\u001b[0m, in \u001b[0;36mMorganBinaryClassifier.fit_automl\u001b[0;34m(self, smiles, y)\u001b[0m\n\u001b[1;32m     25\u001b[0m \u001b[39mdef\u001b[39;00m \u001b[39mfit_automl\u001b[39m(\u001b[39mself\u001b[39m, smiles, y):\n\u001b[1;32m     26\u001b[0m     model \u001b[39m=\u001b[39m AutoML(task\u001b[39m=\u001b[39m\u001b[39m\"\u001b[39m\u001b[39mclassification\u001b[39m\u001b[39m\"\u001b[39m, time_budget\u001b[39m=\u001b[39m\u001b[39mself\u001b[39m\u001b[39m.\u001b[39mtime_budget_sec)\n\u001b[0;32m---> 27\u001b[0m     X \u001b[39m=\u001b[39m np\u001b[39m.\u001b[39marray(\u001b[39mself\u001b[39;49m\u001b[39m.\u001b[39;49mdescriptor\u001b[39m.\u001b[39;49mfit(smiles))\n\u001b[1;32m     28\u001b[0m     y \u001b[39m=\u001b[39m np\u001b[39m.\u001b[39marray(y)\n\u001b[1;32m     29\u001b[0m     \u001b[39mif\u001b[39;00m \u001b[39mself\u001b[39m\u001b[39m.\u001b[39m_reduced:\n",
      "File \u001b[0;32m~/Desktop/Ersilia/lazy-qsar/lazyqsar/descriptors/descriptors.py:372\u001b[0m, in \u001b[0;36mMorganDescriptor.fit\u001b[0;34m(self, smiles)\u001b[0m\n\u001b[1;32m    371\u001b[0m \u001b[39mdef\u001b[39;00m \u001b[39mfit\u001b[39m(\u001b[39mself\u001b[39m, smiles):\n\u001b[0;32m--> 372\u001b[0m     X \u001b[39m=\u001b[39m morgan_featurizer(smiles)\n\u001b[1;32m    373\u001b[0m     \u001b[39mself\u001b[39m\u001b[39m.\u001b[39mfeatures \u001b[39m=\u001b[39m [\u001b[39m\"\u001b[39m\u001b[39mfp-\u001b[39m\u001b[39m{0}\u001b[39;00m\u001b[39m\"\u001b[39m\u001b[39m.\u001b[39mformat(i) \u001b[39mfor\u001b[39;00m i \u001b[39min\u001b[39;00m \u001b[39mrange\u001b[39m(X\u001b[39m.\u001b[39mshape[\u001b[39m1\u001b[39m])]\n\u001b[1;32m    374\u001b[0m     \u001b[39mreturn\u001b[39;00m pd\u001b[39m.\u001b[39mDataFrame(X, columns\u001b[39m=\u001b[39m\u001b[39mself\u001b[39m\u001b[39m.\u001b[39mfeatures)\n",
      "File \u001b[0;32m~/Desktop/Ersilia/lazy-qsar/lazyqsar/descriptors/descriptors.py:361\u001b[0m, in \u001b[0;36mmorgan_featurizer\u001b[0;34m(smiles)\u001b[0m\n\u001b[1;32m    359\u001b[0m X \u001b[39m=\u001b[39m np\u001b[39m.\u001b[39mzeros((\u001b[39mlen\u001b[39m(smiles), NBITS))\n\u001b[1;32m    360\u001b[0m \u001b[39mfor\u001b[39;00m i, smi \u001b[39min\u001b[39;00m \u001b[39menumerate\u001b[39m(smiles):\n\u001b[0;32m--> 361\u001b[0m     mol \u001b[39m=\u001b[39m Chem\u001b[39m.\u001b[39;49mMolFromSmiles(smi)\n\u001b[1;32m    362\u001b[0m     X[i,:] \u001b[39m=\u001b[39m d\u001b[39m.\u001b[39mcalc(mol)\n\u001b[1;32m    363\u001b[0m \u001b[39mreturn\u001b[39;00m X\n",
      "\u001b[0;31mTypeError\u001b[0m: No registered converter was able to produce a C++ rvalue of type std::__1::basic_string<wchar_t, std::__1::char_traits<wchar_t>, std::__1::allocator<wchar_t>> from this Python object of type numpy.ndarray"
     ]
    }
   ],
   "source": [
    "model = lq.MorganBinaryClassifier(estimator_list=[\"rf\"])\n",
    "model.fit(X_train, y_train)"
   ]
  },
  {
   "cell_type": "code",
   "execution_count": null,
   "metadata": {},
   "outputs": [],
   "source": [
    "preds = model.predict_proba(smiles_valid)\n",
    "proba1 = preds[:,1]\n",
    "print(proba1)"
   ]
  },
  {
   "cell_type": "code",
   "execution_count": null,
   "metadata": {},
   "outputs": [],
   "source": [
    "fpr, tpr, _ = roc_curve(y_valid, proba1)\n",
    "print(\"AUROC\", auc(fpr, tpr))"
   ]
  }
 ],
 "metadata": {
  "kernelspec": {
   "display_name": "lazyqsar",
   "language": "python",
   "name": "python3"
  },
  "language_info": {
   "codemirror_mode": {
    "name": "ipython",
    "version": 3
   },
   "file_extension": ".py",
   "mimetype": "text/x-python",
   "name": "python",
   "nbconvert_exporter": "python",
   "pygments_lexer": "ipython3",
   "version": "3.10.12"
  },
  "orig_nbformat": 4
 },
 "nbformat": 4,
 "nbformat_minor": 2
}
